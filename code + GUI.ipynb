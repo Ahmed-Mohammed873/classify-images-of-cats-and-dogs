{
 "cells": [
  {
   "cell_type": "code",
   "execution_count": 13,
   "id": "ddac17c6-7eda-48fe-8068-f3b946b17f7c",
   "metadata": {},
   "outputs": [
    {
     "name": "stderr",
     "output_type": "stream",
     "text": [
      "100%|████████████████████████████████████████████████████████████████████████████| 7393/7393 [00:00<00:00, 9372.26it/s]\n"
     ]
    },
    {
     "name": "stdout",
     "output_type": "stream",
     "text": [
      "✅ Loaded 399 images.\n",
      "📉 Applying PCA...\n",
      "🤖 Training SVM...\n",
      "\n",
      "📊 Classification Report:\n",
      "               precision    recall  f1-score   support\n",
      "\n",
      "           0       0.90      0.83      0.86        46\n",
      "           1       0.79      0.88      0.83        34\n",
      "\n",
      "    accuracy                           0.85        80\n",
      "   macro avg       0.85      0.85      0.85        80\n",
      "weighted avg       0.86      0.85      0.85        80\n",
      "\n",
      "✅ Accuracy: 0.85\n"
     ]
    },
    {
     "data": {
      "text/plain": [
       "['pca_model.pkl']"
      ]
     },
     "execution_count": 13,
     "metadata": {},
     "output_type": "execute_result"
    }
   ],
   "source": [
    "import os\n",
    "import cv2\n",
    "import numpy as np\n",
    "from tqdm import tqdm\n",
    "from sklearn.decomposition import PCA\n",
    "from sklearn.svm import SVC\n",
    "from sklearn.model_selection import train_test_split, GridSearchCV\n",
    "from sklearn.metrics import classification_report, accuracy_score\n",
    "import joblib\n",
    "\n",
    "\n",
    "# Define constants\n",
    "IMG_DIR = 'C:\\\\Users\\\\ahmed\\\\Downloads\\\\oxford-iiit-pet\\\\images\\\\images'  # Path to extracted images\n",
    "IMG_SIZE = 128\n",
    "LIMIT_PER_CLASS = 200\n",
    "\n",
    "cat_breeds = ['Abyssinian', 'Bengal', 'Birman', 'Bombay', 'British_Shorthair',\n",
    "              'Egyptian_Mau', 'Maine_Coon', 'Persian', 'Ragdoll',\n",
    "              'Russian_Blue', 'Siamese', 'Sphynx']\n",
    "\n",
    "\n",
    "# Balanced loading\n",
    "X, y = [], []\n",
    "cat_count, dog_count = 0, 0\n",
    "\n",
    "# Load images (RGB, larger size)\n",
    "for img_name in tqdm(os.listdir(IMG_DIR)):\n",
    "    if not img_name.lower().endswith('.jpg'):\n",
    "        continue\n",
    "\n",
    "    breed = img_name.split(\"_\")[0]\n",
    "    label = None\n",
    "    if breed in cat_breeds and cat_count < LIMIT_PER_CLASS:\n",
    "        label = 0\n",
    "        cat_count += 1\n",
    "    elif breed not in cat_breeds and dog_count < LIMIT_PER_CLASS:\n",
    "        label = 1\n",
    "        dog_count += 1\n",
    "\n",
    "    if label is None:\n",
    "        continue\n",
    "\n",
    "    try:\n",
    "        img_path = os.path.join(IMG_DIR, img_name)\n",
    "        img = cv2.imread(img_path, cv2.IMREAD_COLOR)\n",
    "        img = cv2.resize(img, (IMG_SIZE, IMG_SIZE))\n",
    "        img_flat = img.flatten()\n",
    "        X.append(img_flat)\n",
    "        y.append(label)\n",
    "    except:\n",
    "        continue\n",
    "\n",
    "X = np.array(X)\n",
    "y = np.array(y)\n",
    "\n",
    "print(f\"✅ Loaded {len(X)} images.\")\n",
    "\n",
    "# Train/test split\n",
    "X_train, X_test, y_train, y_test = train_test_split(\n",
    "    X, y, test_size=0.2, random_state=42)\n",
    "\n",
    "# PCA to reduce feature dimensions\n",
    "print(\"📉 Applying PCA...\")\n",
    "pca = PCA(n_components=200)\n",
    "X_train_pca = pca.fit_transform(X_train)\n",
    "X_test_pca = pca.transform(X_test)\n",
    "\n",
    "# Train SVM with manual hyperparameters\n",
    "print(\"🤖 Training SVM...\")\n",
    "clf = SVC(kernel='rbf', C=1.0, gamma='scale')\n",
    "clf.fit(X_train_pca, y_train)\n",
    "\n",
    "# Evaluate\n",
    "y_pred = clf.predict(X_test_pca)\n",
    "print(\"\\n📊 Classification Report:\\n\", classification_report(y_test, y_pred))\n",
    "print(\"✅ Accuracy:\", accuracy_score(y_test, y_pred))\n",
    "\n",
    "# Save models\n",
    "joblib.dump(clf, \"svm_model_pca.pkl\")\n",
    "joblib.dump(pca, \"pca_model.pkl\")\n"
   ]
  },
  {
   "cell_type": "code",
   "execution_count": 24,
   "id": "8669d9f3-7a4f-42a1-b824-7039ab1f5f32",
   "metadata": {},
   "outputs": [
    {
     "name": "stdout",
     "output_type": "stream",
     "text": [
      "* Running on local URL:  http://127.0.0.1:7864\n",
      "* To create a public link, set `share=True` in `launch()`.\n"
     ]
    },
    {
     "data": {
      "text/html": [
       "<div><iframe src=\"http://127.0.0.1:7864/\" width=\"100%\" height=\"500\" allow=\"autoplay; camera; microphone; clipboard-read; clipboard-write;\" frameborder=\"0\" allowfullscreen></iframe></div>"
      ],
      "text/plain": [
       "<IPython.core.display.HTML object>"
      ]
     },
     "metadata": {},
     "output_type": "display_data"
    },
    {
     "data": {
      "text/plain": []
     },
     "execution_count": 24,
     "metadata": {},
     "output_type": "execute_result"
    }
   ],
   "source": [
    "import gradio as gr\n",
    "import cv2\n",
    "import numpy as np\n",
    "import joblib\n",
    "\n",
    "# Load trained model and PCA\n",
    "model = joblib.load(\"svm_model_pca.pkl\")\n",
    "pca = joblib.load(\"pca_model.pkl\")\n",
    "\n",
    "def predict(image):\n",
    "    try:\n",
    "        # Resize and preprocess\n",
    "        image = cv2.resize(image, (128, 128))\n",
    "        image_flat = image.flatten().reshape(1, -1)\n",
    "\n",
    "        # Apply PCA\n",
    "        image_pca = pca.transform(image_flat)\n",
    "\n",
    "        # Predict\n",
    "        pred = model.predict(image_pca)[0]\n",
    "        label = \"🐱 Cat\" if pred == 0 else \"🐶 Dog\"\n",
    "        return label\n",
    "    except Exception as e:\n",
    "        return f\"Error: {str(e)}\"\n",
    "\n",
    "# Launch app\n",
    "gr.Interface(fn=predict,\n",
    "             inputs=gr.Image(type=\"numpy\"),\n",
    "             outputs=\"text\",\n",
    "             title=\"Cat vs Dog Classifier 🐾\",\n",
    "             description=\"Upload a pet image to classify it as a cat or dog\"\n",
    "            ).launch()\n"
   ]
  },
  {
   "cell_type": "code",
   "execution_count": 25,
   "id": "96d3cedd-e4df-415c-bff6-4880eff8df4d",
   "metadata": {},
   "outputs": [
    {
     "ename": "AttributeError",
     "evalue": "module 'gradio' has no attribute 'close'",
     "output_type": "error",
     "traceback": [
      "\u001b[1;31m---------------------------------------------------------------------------\u001b[0m",
      "\u001b[1;31mAttributeError\u001b[0m                            Traceback (most recent call last)",
      "Cell \u001b[1;32mIn[25], line 1\u001b[0m\n\u001b[1;32m----> 1\u001b[0m \u001b[43mgr\u001b[49m\u001b[38;5;241;43m.\u001b[39;49m\u001b[43mclose\u001b[49m()\n",
      "\u001b[1;31mAttributeError\u001b[0m: module 'gradio' has no attribute 'close'"
     ]
    }
   ],
   "source": [
    "gr.close()\n"
   ]
  },
  {
   "cell_type": "code",
   "execution_count": null,
   "id": "45170673-5880-4f23-b283-86ebc81492f3",
   "metadata": {},
   "outputs": [],
   "source": []
  }
 ],
 "metadata": {
  "kernelspec": {
   "display_name": "Python 3.10",
   "language": "python",
   "name": "py310"
  },
  "language_info": {
   "codemirror_mode": {
    "name": "ipython",
    "version": 3
   },
   "file_extension": ".py",
   "mimetype": "text/x-python",
   "name": "python",
   "nbconvert_exporter": "python",
   "pygments_lexer": "ipython3",
   "version": "3.10.0"
  }
 },
 "nbformat": 4,
 "nbformat_minor": 5
}
